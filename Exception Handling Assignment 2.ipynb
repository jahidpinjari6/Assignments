{
 "cells": [
  {
   "cell_type": "code",
   "execution_count": null,
   "id": "e62c9c7d-dc6e-4bc6-acbd-88cf3f9feecf",
   "metadata": {},
   "outputs": [],
   "source": [
    "\"\"\"\n",
    "Q1. Explain why we have to use the Exception class while creating a Custom Exception.\n",
    "Ans.\n",
    "In Python, all exceptions must be instances of a class that derives from the Exception class. This is because the Exception class is the base class for all exceptions in Python.\n",
    "\n",
    "When we create a custom exception class, we are essentially creating a new subclass of the Exception class. \n",
    "This allows us to customize the behavior of the exception and to provide more specific information about the error that occurred.\n",
    "\"\"\""
   ]
  },
  {
   "cell_type": "code",
   "execution_count": 1,
   "id": "af4783c8-9eba-4f43-9e69-d0144ede7f20",
   "metadata": {},
   "outputs": [
    {
     "name": "stdout",
     "output_type": "stream",
     "text": [
      "Exception\n",
      "BaseException\n",
      "object\n"
     ]
    }
   ],
   "source": [
    "\"\"\"\n",
    "Q2. Write a python program to print Python Exception Hierarchy.\n",
    "Ans.\n",
    "\"\"\"\n",
    "import sys\n",
    "\n",
    "def print_exception_hierarchy(exception_class):\n",
    "    \"\"\"Prints the exception hierarchy for the given exception class.\"\"\"\n",
    "    print(exception_class.__name__)\n",
    "    for base_class in exception_class.__bases__:\n",
    "        print_exception_hierarchy(base_class)\n",
    "\n",
    "print_exception_hierarchy(Exception)\n"
   ]
  },
  {
   "cell_type": "code",
   "execution_count": 2,
   "id": "40f8cba0-5596-4ba7-b938-451592dd81b2",
   "metadata": {},
   "outputs": [
    {
     "name": "stdout",
     "output_type": "stream",
     "text": [
      "1267650600228229401496703205376\n"
     ]
    },
    {
     "ename": "ZeroDivisionError",
     "evalue": "division by zero",
     "output_type": "error",
     "traceback": [
      "\u001b[0;31m---------------------------------------------------------------------------\u001b[0m",
      "\u001b[0;31mZeroDivisionError\u001b[0m                         Traceback (most recent call last)",
      "Cell \u001b[0;32mIn[2], line 9\u001b[0m\n\u001b[1;32m      1\u001b[0m \u001b[38;5;124;03m\"\"\"\u001b[39;00m\n\u001b[1;32m      2\u001b[0m \u001b[38;5;124;03mQ3. What errors are defined in the ArithmeticError class? Explain any two with an example.\u001b[39;00m\n\u001b[1;32m      3\u001b[0m \u001b[38;5;124;03mAns.\u001b[39;00m\n\u001b[0;32m   (...)\u001b[0m\n\u001b[1;32m      6\u001b[0m \u001b[38;5;124;03m3. floatingpointerror\u001b[39;00m\n\u001b[1;32m      7\u001b[0m \u001b[38;5;124;03m\"\"\"\u001b[39;00m\n\u001b[1;32m      8\u001b[0m \u001b[38;5;28mprint\u001b[39m(\u001b[38;5;241m1\u001b[39m\u001b[38;5;241m<<\u001b[39m\u001b[38;5;241m100\u001b[39m)\n\u001b[0;32m----> 9\u001b[0m \u001b[38;5;28mprint\u001b[39m(\u001b[38;5;241;43m1\u001b[39;49m\u001b[43m \u001b[49m\u001b[38;5;241;43m/\u001b[39;49m\u001b[43m \u001b[49m\u001b[38;5;241;43m0\u001b[39;49m)\n",
      "\u001b[0;31mZeroDivisionError\u001b[0m: division by zero"
     ]
    }
   ],
   "source": [
    "\"\"\"\n",
    "Q3. What errors are defined in the ArithmeticError class? Explain any two with an example.\n",
    "Ans.\n",
    "1. overflowerror\n",
    "2. zerodivisionerror\n",
    "3. floatingpointerror\n",
    "\"\"\"\n",
    "print(1<<100)\n",
    "print(1 / 0)"
   ]
  },
  {
   "cell_type": "code",
   "execution_count": 3,
   "id": "b2750fc4-4d67-4302-9b71-b25c00404694",
   "metadata": {},
   "outputs": [
    {
     "ename": "KeyError",
     "evalue": "'color'",
     "output_type": "error",
     "traceback": [
      "\u001b[0;31m---------------------------------------------------------------------------\u001b[0m",
      "\u001b[0;31mKeyError\u001b[0m                                  Traceback (most recent call last)",
      "Cell \u001b[0;32mIn[3], line 11\u001b[0m\n\u001b[1;32m      1\u001b[0m \u001b[38;5;124;03m\"\"\"\u001b[39;00m\n\u001b[1;32m      2\u001b[0m \u001b[38;5;124;03mQ4. Why LookupError class is used? Explain with an example KeyError and IndexError.\u001b[39;00m\n\u001b[1;32m      3\u001b[0m \u001b[38;5;124;03mAns.\u001b[39;00m\n\u001b[0;32m   (...)\u001b[0m\n\u001b[1;32m      7\u001b[0m \u001b[38;5;124;03mIndexError : Raised when an index is not found in a sequence.\u001b[39;00m\n\u001b[1;32m      8\u001b[0m \u001b[38;5;124;03m\"\"\"\u001b[39;00m\n\u001b[1;32m     10\u001b[0m dictionary \u001b[38;5;241m=\u001b[39m {\u001b[38;5;124m\"\u001b[39m\u001b[38;5;124mname\u001b[39m\u001b[38;5;124m\"\u001b[39m: \u001b[38;5;124m\"\u001b[39m\u001b[38;5;124mBard\u001b[39m\u001b[38;5;124m\"\u001b[39m, \u001b[38;5;124m\"\u001b[39m\u001b[38;5;124mage\u001b[39m\u001b[38;5;124m\"\u001b[39m: \u001b[38;5;241m30\u001b[39m}\n\u001b[0;32m---> 11\u001b[0m \u001b[38;5;28mprint\u001b[39m(\u001b[43mdictionary\u001b[49m\u001b[43m[\u001b[49m\u001b[38;5;124;43m\"\u001b[39;49m\u001b[38;5;124;43mcolor\u001b[39;49m\u001b[38;5;124;43m\"\u001b[39;49m\u001b[43m]\u001b[49m)\n\u001b[1;32m     13\u001b[0m \u001b[38;5;28mlist\u001b[39m \u001b[38;5;241m=\u001b[39m [\u001b[38;5;241m1\u001b[39m, \u001b[38;5;241m2\u001b[39m, \u001b[38;5;241m3\u001b[39m]\n\u001b[1;32m     14\u001b[0m \u001b[38;5;28mprint\u001b[39m(\u001b[38;5;28mlist\u001b[39m[\u001b[38;5;241m3\u001b[39m])\n",
      "\u001b[0;31mKeyError\u001b[0m: 'color'"
     ]
    }
   ],
   "source": [
    "\"\"\"\n",
    "Q4. Why LookupError class is used? Explain with an example KeyError and IndexError.\n",
    "Ans.\n",
    "The LookupError class is a base class for exceptions that occur when a lookup fails. It inherits from the Exception class.\n",
    "The LookupError class is used to handle two types of errors:\n",
    "KeyError : Raised when a key is not found in a dictionary.\n",
    "IndexError : Raised when an index is not found in a sequence.\n",
    "\"\"\"\n",
    "\n",
    "dictionary = {\"name\": \"Bard\", \"age\": 30}\n",
    "print(dictionary[\"color\"])\n",
    "\n",
    "list = [1, 2, 3]\n",
    "print(list[3])"
   ]
  },
  {
   "cell_type": "code",
   "execution_count": null,
   "id": "88c6d17b-48ed-4028-9179-0105901e05bb",
   "metadata": {},
   "outputs": [],
   "source": [
    "\"\"\"\n",
    "Q5. Explain ImportError. What is ModuleNotFoundError?\n",
    "Ans.\n",
    "The ImportError exception is raised when a module cannot be imported. It inherits from the Exception class.\n",
    "\n",
    "The ModuleNotFoundError exception is a subclass of ImportError. It is raised when a module cannot be found.\n",
    "\"\"\""
   ]
  },
  {
   "cell_type": "code",
   "execution_count": null,
   "id": "89516f29-d2b1-4835-a60d-a7e39ef7ee90",
   "metadata": {},
   "outputs": [],
   "source": [
    "\"\"\"\n",
    "Q6. List down some best practices for exception handling in python.\n",
    "Ans.\n",
    "Always use try and except statements. This is the most important best practice for exception handling. The try and except statements allow you to \n",
    "catch and handle exceptions that occur in your code.\n",
    "\n",
    "Use specific exceptions. If you can, use specific exceptions instead of the general Exception exception. This will make your code more readable \n",
    "and easier to debug.\n",
    "\n",
    "Log exceptions. When an exception occurs, it is a good idea to log the exception. This will help you to track down the source of the error.\n",
    "\n",
    "Handle multiple exceptions. You can use the except statement to handle multiple exceptions. This is useful if you want to handle different \n",
    "types of exceptions in the same way.\n",
    "\n",
    "Use the finally statement. The finally statement is executed regardless of whether or not an exception is raised. This is useful for \n",
    "performing cleanup tasks, such as closing files or releasing resources.\n",
    "\n",
    "Don't ignore exceptions. If you ignore an exception, your code will simply crash. This is not a good way to handle errors.\n",
    "\"\"\""
   ]
  },
  {
   "cell_type": "code",
   "execution_count": null,
   "id": "a01633a0-2613-49c3-a98c-b86c6976ed37",
   "metadata": {},
   "outputs": [],
   "source": []
  }
 ],
 "metadata": {
  "kernelspec": {
   "display_name": "Python 3 (ipykernel)",
   "language": "python",
   "name": "python3"
  },
  "language_info": {
   "codemirror_mode": {
    "name": "ipython",
    "version": 3
   },
   "file_extension": ".py",
   "mimetype": "text/x-python",
   "name": "python",
   "nbconvert_exporter": "python",
   "pygments_lexer": "ipython3",
   "version": "3.10.8"
  }
 },
 "nbformat": 4,
 "nbformat_minor": 5
}
