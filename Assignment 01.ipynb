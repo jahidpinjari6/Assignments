{
 "cells": [
  {
   "cell_type": "code",
   "execution_count": null,
   "id": "7b550c6d-e0a1-4637-b311-a69660d7b00f",
   "metadata": {},
   "outputs": [],
   "source": [
    "\"\"\"\n",
    "Q1. Create one variable containing following type of data\n",
    "Ans.\n",
    "\n",
    "\tstring = \"PWskills\"\n",
    "\n",
    "\tlist = [ 5, 8, \"demo\", 87.65 ]\n",
    "\n",
    "\tfloat = 56.43\n",
    "\n",
    "\ttuple = (5, \"demo\", 5+7j)\n",
    "\"\"\""
   ]
  },
  {
   "cell_type": "code",
   "execution_count": null,
   "id": "1d1b5935-0003-4d75-add5-ef1b7b857fcb",
   "metadata": {},
   "outputs": [],
   "source": [
    "\"\"\"\n",
    "Q2. Given are some following variables containing data:\n",
    "    What will be the data type of the above given variable\n",
    "\n",
    "(i)\t    var1 = ‘ ‘                           = String\n",
    "\n",
    "(ii)\tvar2 = ‘[ DS , ML , Python]’         = String\n",
    "\n",
    "(iii)\tvar3 = [ ‘DS’ , ’ML’ , ‘Python’ ]    = List\n",
    "\n",
    "(iv)\tvar4 = 1.                            = Integer\n",
    "\n",
    "\"\"\"\n"
   ]
  },
  {
   "cell_type": "code",
   "execution_count": null,
   "id": "def1b738-690b-4a50-bc84-dff886c5b24a",
   "metadata": {},
   "outputs": [],
   "source": [
    "\"\"\"\n",
    "Q3. Explain the use of the following operators using an example\n",
    "Ans :- \n",
    "\n",
    "    1. /(Division) :- It is a arithmetic operator which is used to perform arithmetic operations in the code\n",
    "        exampple, a = 4\n",
    "                  b = 2\n",
    "                  c = a/b\n",
    "                  print(c) answer is 2\n",
    "                    \n",
    "    2. %(Modulus) :- It is a arithmetic operator which gives the remainder of the division operation\n",
    "        example, a = 4\n",
    "                 b = 2\n",
    "                 c = a%b\n",
    "                 print(c) answer is 0\n",
    "                    \n",
    "    3. //(Negation) :- It is a bitwose operator which tilds the given value\n",
    "        example, ~12\n",
    "                answer is -13\n",
    "            \n",
    "    4. **(Exponential) :- It is a arithmetic operator which is used to do arithmetic operations by power method\n",
    "        example, 2**3\n",
    "                 amswer is 8\n",
    "\"\"\""
   ]
  },
  {
   "cell_type": "code",
   "execution_count": 5,
   "id": "9d320372-bc2c-4ee4-9a90-77e5591d734f",
   "metadata": {},
   "outputs": [
    {
     "name": "stdout",
     "output_type": "stream",
     "text": [
      "<class 'int'>\n",
      "<class 'int'>\n",
      "<class 'complex'>\n",
      "<class 'str'>\n",
      "<class 'float'>\n",
      "<class 'str'>\n",
      "<class 'int'>\n",
      "<class 'bool'>\n",
      "<class 'bool'>\n",
      "<class 'int'>\n"
     ]
    }
   ],
   "source": [
    "\"\"\"\n",
    "Q4. Create a list of length 10 of your choice containing multiple types of data. Using for loop print the \n",
    "element and its data type\n",
    "\"\"\"\n",
    "\n",
    "\n",
    "list1 = [ 5, 7, 2+8j, \"Demo\", 98.34, \"pwskills\", 45, True, False, 0]\n",
    "for i in list1:\n",
    "    print(type(i))"
   ]
  },
  {
   "cell_type": "code",
   "execution_count": 9,
   "id": "0281282d-fb54-4b84-ab72-95ce5560778a",
   "metadata": {},
   "outputs": [
    {
     "name": "stdout",
     "output_type": "stream",
     "text": [
      "23\n"
     ]
    }
   ],
   "source": [
    "\"\"\"\n",
    "Q5. Using a while loop, verify if the number A is purely divisible by number B and if so then how many \n",
    "times it can be divisible\n",
    "\"\"\"\n",
    "a = 46\n",
    "b = 23\n",
    "while a>b:\n",
    "    print(b)\n",
    "    a = a/b"
   ]
  },
  {
   "cell_type": "code",
   "execution_count": 15,
   "id": "2272c0a6-3b2e-4d37-81d9-10096069c791",
   "metadata": {},
   "outputs": [
    {
     "name": "stdout",
     "output_type": "stream",
     "text": [
      "9\n",
      "this number is divisible by 3\n",
      "67\n",
      "default\n",
      "69\n",
      "this number is divisible by 3\n",
      "43\n",
      "default\n",
      "75\n",
      "this number is divisible by 3\n",
      "93\n",
      "this number is divisible by 3\n",
      "76\n",
      "default\n",
      "24\n",
      "this number is divisible by 3\n",
      "27\n",
      "this number is divisible by 3\n",
      "74\n",
      "default\n",
      "96\n",
      "this number is divisible by 3\n",
      "4\n",
      "default\n",
      "67\n",
      "default\n",
      "43\n",
      "default\n",
      "80\n",
      "default\n",
      "56\n",
      "default\n",
      "42\n",
      "this number is divisible by 3\n",
      "39\n",
      "this number is divisible by 3\n",
      "56\n",
      "default\n",
      "62\n",
      "default\n",
      "89\n",
      "default\n",
      "32\n",
      "default\n",
      "19\n",
      "default\n",
      "68\n",
      "default\n",
      "18\n",
      "this number is divisible by 3\n"
     ]
    }
   ],
   "source": [
    "\"\"\"\n",
    "Q6. Create a list containing 25 int type data. Using for loop and if-else condition print if the element is \n",
    "divisible by 3 or not\n",
    "\"\"\"\n",
    "\n",
    "\n",
    "list2 = [ 9, 67, 69, 43, 75, 93, 76, 24, 27, 74, 96, 4, 67, 43, 80, 56, 42, 39, 56, 62, 89, 32, 19, 68, 18 ]\n",
    "\n",
    "for z in list2:\n",
    "    print(z)\n",
    "    if z%3==0:\n",
    "        print(\"this number is divisible by 3\")\n",
    "    else:\n",
    "        print(\"default\")\n"
   ]
  },
  {
   "cell_type": "code",
   "execution_count": null,
   "id": "4b5fbd10-bef8-4efb-9a07-0adf2724aae5",
   "metadata": {},
   "outputs": [],
   "source": [
    "\"\"\"\n",
    "Q7. What do you understand about mutable and immutable data types? Give examples for both showing \n",
    "this property\n",
    "\n",
    "Ans.\n",
    "\n",
    "    1. Mutable :- Ability to change the value/parameter on th basis of indexing\n",
    "        example, list3 = [ 4, 7, 8, 2, 1, 6 ]\n",
    "                 list3[2] = 5\n",
    "                 print(list3)\n",
    "                The updated list is \n",
    "                 list3 = [ 4, 7, 5, 2, 1, 6 ]\n",
    "                    \n",
    "    2. Immutable :- Cannot change the value/parameter on the basis of indexing\n",
    "        example, k = \"demo\"\n",
    "                 k[1] = \"i\"\n",
    "                This will not update the string, therefore strings are immutable.\n",
    "\"\"\""
   ]
  }
 ],
 "metadata": {
  "kernelspec": {
   "display_name": "Python 3 (ipykernel)",
   "language": "python",
   "name": "python3"
  },
  "language_info": {
   "codemirror_mode": {
    "name": "ipython",
    "version": 3
   },
   "file_extension": ".py",
   "mimetype": "text/x-python",
   "name": "python",
   "nbconvert_exporter": "python",
   "pygments_lexer": "ipython3",
   "version": "3.10.8"
  }
 },
 "nbformat": 4,
 "nbformat_minor": 5
}
