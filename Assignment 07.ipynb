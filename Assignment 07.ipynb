{
 "cells": [
  {
   "cell_type": "code",
   "execution_count": 1,
   "id": "7b12e459-8428-4bc8-baac-1c9b92fd4bd4",
   "metadata": {},
   "outputs": [],
   "source": [
    "\"\"\"\n",
    "Q1. What is Abstraction in OOps? Explain with an example.\n",
    "Ans.\n",
    "        Abstraction in python is defined as a process of handling complexity by hiding unnecessary information from the user. \n",
    "        This is one of the core concepts of object-oriented programming (OOP) languages.\n",
    "\"\"\"\n",
    "import abc\n",
    "class pwskills_course:\n",
    "    \n",
    "    @abc.abstractmethod\n",
    "    def course_name(self):\n",
    "        pass\n",
    "    \n",
    "    @abc.abstractmethod\n",
    "    def course_price(self):\n",
    "        pass\n",
    "    \n",
    "    @abc.abstractmethod\n",
    "    def course_duration(self):\n",
    "        pass"
   ]
  },
  {
   "cell_type": "code",
   "execution_count": 2,
   "id": "f4c11e79-6368-4fb2-8f58-0a6fadcfb84d",
   "metadata": {},
   "outputs": [],
   "source": [
    "class pw_dsm:\n",
    "    def course_name(self):\n",
    "        return \"The course name is Data Science Masters\"\n",
    "    \n",
    "    def course_price(self):\n",
    "        return \"The price of course is 3500\"\n",
    "    \n",
    "    def course_duration(self):\n",
    "        return \"The duration of course is 6 months\""
   ]
  },
  {
   "cell_type": "code",
   "execution_count": 3,
   "id": "14c47748-aae6-47a8-ad56-1c76a9361467",
   "metadata": {},
   "outputs": [],
   "source": [
    "class pw_fswd:\n",
    "    def course_name(self):\n",
    "        return \"The course name is full stack web development\"\n",
    "    \n",
    "    def course_price(self):\n",
    "        return \"The price of course is 4000\"\n",
    "    \n",
    "    def course_duration(self):\n",
    "        return \"The duration of course is 7 months\""
   ]
  },
  {
   "cell_type": "code",
   "execution_count": 4,
   "id": "44608033-07b3-4b7c-b5bc-112637fbd61b",
   "metadata": {},
   "outputs": [],
   "source": [
    "pw_fswd_obj = pw_fswd()"
   ]
  },
  {
   "cell_type": "code",
   "execution_count": 7,
   "id": "92dae1bf-6a8a-4490-88da-9a56639f8561",
   "metadata": {},
   "outputs": [],
   "source": [
    "pw_dsm_obj = pw_dsm()"
   ]
  },
  {
   "cell_type": "code",
   "execution_count": 6,
   "id": "f5d8054b-7a69-4c26-af5e-f471c17cd3d6",
   "metadata": {},
   "outputs": [
    {
     "data": {
      "text/plain": [
       "'The course name is full stack web development'"
      ]
     },
     "execution_count": 6,
     "metadata": {},
     "output_type": "execute_result"
    }
   ],
   "source": [
    "pw_fswd_obj.course_name()"
   ]
  },
  {
   "cell_type": "code",
   "execution_count": 8,
   "id": "a98dbaf1-72fd-4afd-9161-b7d2f5acdbda",
   "metadata": {},
   "outputs": [
    {
     "data": {
      "text/plain": [
       "'The duration of course is 6 months'"
      ]
     },
     "execution_count": 8,
     "metadata": {},
     "output_type": "execute_result"
    }
   ],
   "source": [
    "pw_dsm_obj.course_duration()"
   ]
  },
  {
   "cell_type": "code",
   "execution_count": 9,
   "id": "2f4a456a-29ef-49af-9b3e-f243f4e3d713",
   "metadata": {},
   "outputs": [],
   "source": [
    "\"\"\"\n",
    "Q2. Differentiate between Abstraction and Encapsulation. Explain with an example.\n",
    "Ans. \n",
    "        In encapsulation the variable are being protected or privatised that should not be known to the user \n",
    "        In Abstraction the raw structure is defined which can be used for as many classes as we want, it simplifies the code \n",
    "        for the reading purpose and understanding.\n",
    "        Abstraction in python is defined as a process of handling complexity by hiding unnecessary information from the user. \n",
    "        This is one of the core concepts of object-oriented programming (OOP) languages.\n",
    "\"\"\"\n",
    "class Car:\n",
    "    def __init__(self, make, model, color):\n",
    "        self.make = make\n",
    "        self.model = model\n",
    "        self.color = color\n",
    "        self.speed = 0\n",
    "\n",
    "    def accelerate(self, value):\n",
    "        self.speed += value\n",
    "\n",
    "    def brake(self, value):\n",
    "        self.speed -= value\n",
    "\n",
    "    def get_speed(self):\n",
    "        return self.speed"
   ]
  },
  {
   "cell_type": "code",
   "execution_count": 11,
   "id": "9ec4c25c-e1f4-4d89-bea9-56248cbf085c",
   "metadata": {},
   "outputs": [],
   "source": [
    "car_obj = Car(\"Aluminium\", \"creta\", \"white\")"
   ]
  },
  {
   "cell_type": "code",
   "execution_count": 12,
   "id": "420d046f-df8b-47f2-b4d7-bc3241e7a88b",
   "metadata": {},
   "outputs": [
    {
     "data": {
      "text/plain": [
       "0"
      ]
     },
     "execution_count": 12,
     "metadata": {},
     "output_type": "execute_result"
    }
   ],
   "source": [
    "car_obj.get_speed()"
   ]
  },
  {
   "cell_type": "code",
   "execution_count": 15,
   "id": "82d1c218-8310-4b62-911e-70c615e843d4",
   "metadata": {},
   "outputs": [],
   "source": [
    "car_obj.brake(150)"
   ]
  },
  {
   "cell_type": "code",
   "execution_count": null,
   "id": "b302b8ec-c676-4279-b338-1a6d9cbae80a",
   "metadata": {},
   "outputs": [],
   "source": [
    "\"\"\"\n",
    "Q3. What is abc module in python? Why is it used?\n",
    "Ans.\n",
    "        The abc module in Python provides the infrastructure for defining abstract base classes (ABCs). \n",
    "        Abstract base classes are classes that cannot be instantiated directly, but can be inherited from by other classes. \n",
    "        This allows you to define a set of methods that all classes that inherit from the abstract base class must implement.\n",
    "\"\"\""
   ]
  },
  {
   "cell_type": "code",
   "execution_count": null,
   "id": "ba500d1f-fd8a-4047-9bf1-8dfba7c23cdd",
   "metadata": {},
   "outputs": [],
   "source": [
    "\"\"\"\n",
    "Q4. How can we achieve data abstraction?\n",
    "Ans. \n",
    "        In Python, data abstraction can be achieved through the use of abstract classes and interfaces. \n",
    "        Python provides a module called abc (Abstract Base Classes) that allows you to define abstract classes and interfaces.\n",
    "\n",
    "        To create an abstract class, you can use the ABC class as a base class and decorate abstract methods with \n",
    "        the @abstractmethod decorator. \n",
    "        Abstract methods are declared without any implementation and serve as placeholders for the methods that subclasses must implement.\n",
    "\"\"\""
   ]
  },
  {
   "cell_type": "code",
   "execution_count": null,
   "id": "5e714cb5-3c9d-4979-aef4-6ad5851d71f9",
   "metadata": {},
   "outputs": [],
   "source": [
    "\"\"\"\n",
    "Q5. Can we create an instance of an abstract class? Explain your answer.\n",
    "Ans.\n",
    "        No, you cannot create an instance of an abstract class in Python. \n",
    "        The purpose of an abstract class is to serve as a blueprint for its subclasses and define common behavior and requirements. \n",
    "        It is meant to be subclassed and extended with concrete implementations.\n",
    "\n",
    "        Attempting to instantiate an abstract class directly will result in a TypeError. \n",
    "        Python's abc module prevents the instantiation of abstract classes to enforce the abstraction and ensure that \n",
    "        the subclasses provide implementations for the abstract methods.\n",
    "\"\"\""
   ]
  }
 ],
 "metadata": {
  "kernelspec": {
   "display_name": "Python 3 (ipykernel)",
   "language": "python",
   "name": "python3"
  },
  "language_info": {
   "codemirror_mode": {
    "name": "ipython",
    "version": 3
   },
   "file_extension": ".py",
   "mimetype": "text/x-python",
   "name": "python",
   "nbconvert_exporter": "python",
   "pygments_lexer": "ipython3",
   "version": "3.10.8"
  }
 },
 "nbformat": 4,
 "nbformat_minor": 5
}
