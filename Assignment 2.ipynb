{
 "cells": [
  {
   "cell_type": "code",
   "execution_count": null,
   "id": "51b3d8e7-14dc-43ac-85f6-39e427fb9bea",
   "metadata": {},
   "outputs": [],
   "source": [
    "\"\"\"\n",
    "Q1. How do you comment code in Python? What are the different types of comments?\n",
    "Ans.  \n",
    "        comment in python is defined as the line of code which is not executed by the system. we can comment code in python by putting (\"\"\") or (''') \n",
    "        at start and end.\n",
    "        The types of comments are\n",
    "            1. single line comment (#)\n",
    "            2. multi line comment (\"\"\"abc\"\"\") or ('''abc''')\n",
    "\"\"\""
   ]
  },
  {
   "cell_type": "code",
   "execution_count": null,
   "id": "ffac4551-2a99-4465-bd85-ecbfd021f7ed",
   "metadata": {},
   "outputs": [],
   "source": [
    "\"\"\"\n",
    "Q2. What are variables in Python? How do you declare and assign values to variables?\n",
    "Ans.\n",
    "        Variables in python is defined as the parameter in which values are assigned to it.\n",
    "        It is very easy to assign and declare values to variable with the help of assignment operator (=)\n",
    "        for example,\n",
    "                    num = 3\n",
    "            in which num is the variable and 3 is the value assigned to it.\n",
    "\"\"\""
   ]
  },
  {
   "cell_type": "code",
   "execution_count": null,
   "id": "d730ba05-ae2e-4bab-9117-50a5c5403e4d",
   "metadata": {},
   "outputs": [],
   "source": [
    "\"\"\"\n",
    "Q3. How do you convert one data type to another in Python?\n",
    "Ans.\n",
    "        We can convert one datatype to another by using typecasting\n",
    "        for example,\n",
    "            suppose we have one variable which contains numeric value,\n",
    "                num = 9865\n",
    "            if we have to convert this int value to str then we will use typecasting,\n",
    "                str(num)\n",
    "\"\"\"          "
   ]
  },
  {
   "cell_type": "code",
   "execution_count": null,
   "id": "bf5255c7-9097-46e8-a749-8d6288899374",
   "metadata": {},
   "outputs": [],
   "source": [
    "\"\"\"\n",
    "Q4. How do you write and execute a Python script from the command line?\n",
    "Ans. \n",
    "        The most basic and easy way to run a Python script is by using the python command. You need to open a command line and type the word python \n",
    "        followed by the path to your script file and then write code you want to execute.\n",
    "\"\"\""
   ]
  },
  {
   "cell_type": "code",
   "execution_count": 19,
   "id": "d7891421-cebb-4aa7-9013-24f85f2abc46",
   "metadata": {},
   "outputs": [
    {
     "data": {
      "text/plain": [
       "[2, 3]"
      ]
     },
     "execution_count": 19,
     "metadata": {},
     "output_type": "execute_result"
    }
   ],
   "source": [
    "\"\"\"\n",
    "Q5. Given a list my_list = [1, 2, 3, 4, 5], write the code to slice the list and obtain the sub-list [2, 3]\n",
    "Ans\n",
    "\"\"\"\n",
    "my_list = [1, 2, 3, 4, 5]\n",
    "my_list[1:3]"
   ]
  },
  {
   "cell_type": "code",
   "execution_count": null,
   "id": "e438db7f-e4f1-4b1c-a39e-2136e52ca618",
   "metadata": {},
   "outputs": [],
   "source": [
    "\"\"\"\n",
    "Q6. What is a complex number in mathematics, and how is it represented in Python?\n",
    "Ans. \n",
    "        In mathematics, complex number is defined as the number which contains the real value and imaginary value in rectangular and polar form.\n",
    "        The representation of complex number in python is somewhat same like we use in mathematics\n",
    "        for example,\n",
    "                    num = 5+8j\n",
    "            where 5 is the real number\n",
    "            and 8 is imaginary\n",
    "\"\"\""
   ]
  },
  {
   "cell_type": "code",
   "execution_count": null,
   "id": "894bde88-506a-49bd-997e-c29e93a9afcf",
   "metadata": {},
   "outputs": [],
   "source": [
    "\"\"\"\n",
    "Q7. What is the correct way to declare a variable named age and assign the value 25 to it?\n",
    "Ans.\n",
    "        first of all, we will declare the variable named age and assign value of 25 to it with the help of assignment operator (=)\n",
    "        Therefore, \n",
    "                    age = 25\n",
    "\"\"\""
   ]
  },
  {
   "cell_type": "code",
   "execution_count": 8,
   "id": "e6dbe1e5-1ddd-4d38-89e4-9df01d8adc27",
   "metadata": {},
   "outputs": [
    {
     "data": {
      "text/plain": [
       "float"
      ]
     },
     "execution_count": 8,
     "metadata": {},
     "output_type": "execute_result"
    }
   ],
   "source": [
    "\"\"\"\n",
    "Q8. Declare a variable named price and assign the value 9.99 to it. What data type does this variable \n",
    "belong to?\n",
    "Ans. \n",
    "\"\"\"\n",
    "price = 9.99\n",
    "type(price)\n",
    "\n",
    "#The datatype of variable price is float"
   ]
  },
  {
   "cell_type": "code",
   "execution_count": 10,
   "id": "a6ebd68d-cb3d-40ec-9c52-c902540fd6f9",
   "metadata": {},
   "outputs": [
    {
     "name": "stdout",
     "output_type": "stream",
     "text": [
      "Jahid Mahammad Pinjari\n"
     ]
    }
   ],
   "source": [
    "\"\"\"\n",
    "Q9. Create a variable named name and assign your full name to it as a string. How would you print the \n",
    "value of this variable?\n",
    "Ans.\n",
    "\"\"\"\n",
    "\n",
    "name = \"Jahid Mahammad Pinjari\"\n",
    "print(name)"
   ]
  },
  {
   "cell_type": "code",
   "execution_count": 20,
   "id": "d4c7180d-3137-486c-ab8f-72710cc2551e",
   "metadata": {},
   "outputs": [
    {
     "name": "stdout",
     "output_type": "stream",
     "text": [
      "World\n"
     ]
    }
   ],
   "source": [
    "\"\"\"\n",
    "Q10. Given the string \"Hello, World!\", extract the substring \"World\".\n",
    "Ans.\n",
    "\"\"\"\n",
    "\n",
    "a = \"Hello, World!\"\n",
    "print(a[7:12])"
   ]
  },
  {
   "cell_type": "code",
   "execution_count": 18,
   "id": "4e1eb632-17b1-41f4-84a0-96c4377ada34",
   "metadata": {},
   "outputs": [
    {
     "name": "stdout",
     "output_type": "stream",
     "text": [
      "He is a student\n"
     ]
    }
   ],
   "source": [
    "\"\"\"\n",
    "Q11. Create a variable named \"is_student\" and assign it a boolean value indicating whether you are \n",
    "currently a student or not.\n",
    "Ans.\n",
    "\"\"\"\n",
    "is_student = True\n",
    "if is_student == 1:\n",
    "    print(\"He is a student\")\n",
    "else:\n",
    "    print(\"He is not a student\")\n"
   ]
  },
  {
   "cell_type": "code",
   "execution_count": null,
   "id": "3e6d8a44-9eab-4ec0-9043-7b700737292f",
   "metadata": {},
   "outputs": [],
   "source": []
  }
 ],
 "metadata": {
  "kernelspec": {
   "display_name": "Python 3 (ipykernel)",
   "language": "python",
   "name": "python3"
  },
  "language_info": {
   "codemirror_mode": {
    "name": "ipython",
    "version": 3
   },
   "file_extension": ".py",
   "mimetype": "text/x-python",
   "name": "python",
   "nbconvert_exporter": "python",
   "pygments_lexer": "ipython3",
   "version": "3.10.8"
  }
 },
 "nbformat": 4,
 "nbformat_minor": 5
}
