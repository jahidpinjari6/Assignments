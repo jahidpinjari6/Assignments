{
 "cells": [
  {
   "cell_type": "code",
   "execution_count": 21,
   "id": "c8ddb720-4fd0-4f75-a57c-67c141b35cbe",
   "metadata": {},
   "outputs": [],
   "source": [
    "\"\"\"\n",
    "Q1. Which keyword is used to create a function? Create a function to return a list of odd numbers in the \n",
    "range of 1 to 25\n",
    "Ans.\n",
    "\"\"\"\n",
    "        # def(definition) keyword is used to create a function.\n",
    "a = list(range(1,26))\n",
    "def test1():\n",
    "    b = []\n",
    "    for i in a:\n",
    "        if i%2 != 0 :\n",
    "            b.append(i)\n",
    "    return b\n"
   ]
  },
  {
   "cell_type": "code",
   "execution_count": 22,
   "id": "1ac010e3-5e6e-41b3-b1ea-52a7c3f0149c",
   "metadata": {},
   "outputs": [
    {
     "data": {
      "text/plain": [
       "[1, 3, 5, 7, 9, 11, 13, 15, 17, 19, 21, 23, 25]"
      ]
     },
     "execution_count": 22,
     "metadata": {},
     "output_type": "execute_result"
    }
   ],
   "source": [
    "test1()"
   ]
  },
  {
   "cell_type": "code",
   "execution_count": 3,
   "id": "9f5aaef5-bd61-4d52-9b47-9cbc13c8e259",
   "metadata": {},
   "outputs": [],
   "source": [
    "\"\"\"\n",
    "Q2. Why *args and **kwargs is used in some functions? Create a function each for *args and **kwargs \n",
    "to demonstrate their use.\n",
    "Ans. \n",
    "\n",
    "        *args is used dynamically to pass n no. of arguments in the function by the user and it stores data in tuples\n",
    "        **kwargs is used dynamically to pass the values in dictionary type\n",
    "\"\"\"\n",
    "\n",
    "        # *args function\n",
    "def test2(*args):\n",
    "    return args\n",
    "\n",
    "        # **kwargs\n",
    "def test3(**kwargs):\n",
    "    return kwargs"
   ]
  },
  {
   "cell_type": "code",
   "execution_count": 2,
   "id": "aea6c2d3-eb28-4537-9108-60c7727b3411",
   "metadata": {},
   "outputs": [
    {
     "data": {
      "text/plain": [
       "(5, 4, 3, 5, 'ergetgweg')"
      ]
     },
     "execution_count": 2,
     "metadata": {},
     "output_type": "execute_result"
    }
   ],
   "source": [
    "test2(5,4,3,5,\"ergetgweg\")"
   ]
  },
  {
   "cell_type": "code",
   "execution_count": 4,
   "id": "c0fd7a98-071c-44cd-99f3-c0fd23c98b18",
   "metadata": {},
   "outputs": [
    {
     "data": {
      "text/plain": [
       "{'a': 'ewfef', 'b': [5, 6, 7, 3], 'c': 5654}"
      ]
     },
     "execution_count": 4,
     "metadata": {},
     "output_type": "execute_result"
    }
   ],
   "source": [
    "test3(a = \"ewfef\", b = [5,6,7,3], c = 5654)"
   ]
  },
  {
   "cell_type": "code",
   "execution_count": 3,
   "id": "abcda8a7-ee1d-4133-90cd-3494e55661c5",
   "metadata": {},
   "outputs": [
    {
     "name": "stdout",
     "output_type": "stream",
     "text": [
      "2\n",
      "4\n",
      "6\n",
      "8\n",
      "10\n"
     ]
    }
   ],
   "source": [
    "\"\"\"\n",
    "Q3.  What is an iterator in python? Name the method used to initialise the iterator object and the method \n",
    "used for iteration. Use these methods to print the first five elements of the given list [2, 4, 6, 8, 10, 12, 14, \n",
    "16, 18, 20].\n",
    "Ans.\n",
    "\n",
    "        Iterator in python is defined as the objects who access the elements of list, tuple and dictionary sequentially one by one.\n",
    "        To initialize the iterator, we use iter() function, it takes iterable as an argument and returns iterator object.\n",
    "        To initialize the iteration, we use the next() function which retrieves the next element in the iteration sequence.\n",
    "\"\"\"\n",
    "l1 = [2, 4, 6, 8, 10, 12, 14, 16, 18, 20]\n",
    "my_iterator = iter(l1)\n",
    "for i in range(5):\n",
    "    a = next(my_iterator)\n",
    "    print(a)"
   ]
  },
  {
   "cell_type": "code",
   "execution_count": 1,
   "id": "b7f54fe2-9a66-41b7-aa57-d0017ee73996",
   "metadata": {},
   "outputs": [],
   "source": [
    "\"\"\"\n",
    "Q4.  What is a generator function in python? Why yield keyword is used? Give an example of a generator \n",
    "function\n",
    "Ans.\n",
    "        In Python, a generator function is type of function that returns an iterator object, which can be iterated over to retrieve \n",
    "        values one at a time.\n",
    "        Yield generates series of values at one time by calling a generator function\n",
    "        \n",
    "\"\"\"\n",
    "def even_numbers(n):\n",
    "    for i in range(n):\n",
    "        if i % 2 == 0:\n",
    "            yield i"
   ]
  },
  {
   "cell_type": "code",
   "execution_count": 3,
   "id": "481d9cc6-1574-4a57-a0e3-d01341d5f7e2",
   "metadata": {},
   "outputs": [
    {
     "name": "stdout",
     "output_type": "stream",
     "text": [
      "0\n",
      "2\n",
      "4\n",
      "6\n",
      "8\n"
     ]
    }
   ],
   "source": [
    "for num in even_numbers(10):\n",
    "    print(num)"
   ]
  },
  {
   "cell_type": "code",
   "execution_count": 4,
   "id": "4b6bbb49-e9e6-40c0-9e8d-0e5771a2cee4",
   "metadata": {},
   "outputs": [],
   "source": [
    "\"\"\"\n",
    "Q5. Create a generator function for prime numbers less than 1000. Use the next() method to print the \n",
    "first 20 prime numbers\n",
    "Ans.\n",
    "\"\"\"\n",
    "def prime_generator():\n",
    "    primes = []\n",
    "    num = 2\n",
    "    while True:\n",
    "        if all(num % prime != 0 for prime in primes):\n",
    "            primes.append(num)\n",
    "            yield num\n",
    "        num += 1"
   ]
  },
  {
   "cell_type": "code",
   "execution_count": 6,
   "id": "a4e1bfba-e52a-494e-b62e-5e894e5e65b4",
   "metadata": {},
   "outputs": [
    {
     "name": "stdout",
     "output_type": "stream",
     "text": [
      "2\n",
      "3\n",
      "5\n",
      "7\n",
      "11\n",
      "13\n",
      "17\n",
      "19\n",
      "23\n",
      "29\n",
      "31\n",
      "37\n",
      "41\n",
      "43\n",
      "47\n",
      "53\n",
      "59\n",
      "61\n",
      "67\n",
      "71\n"
     ]
    }
   ],
   "source": [
    "my_generator = prime_generator()\n",
    "for _ in range(20):\n",
    "    print(next(my_generator))"
   ]
  },
  {
   "cell_type": "code",
   "execution_count": 9,
   "id": "54ec1e7e-f3d9-4dfd-8edb-8939a522cc85",
   "metadata": {},
   "outputs": [
    {
     "name": "stdout",
     "output_type": "stream",
     "text": [
      "0\n",
      "1\n",
      "1\n",
      "2\n",
      "3\n",
      "5\n",
      "8\n",
      "13\n",
      "21\n",
      "34\n"
     ]
    }
   ],
   "source": [
    "\"\"\"\n",
    "Q6. Write a python program to print the first 10 Fibonacci numbers using a while loop.\n",
    "Ans.\n",
    "\"\"\"\n",
    "def test_fib():\n",
    "    a,b = 0,1\n",
    "    count = 0\n",
    "    while count<10:\n",
    "        yield a\n",
    "        a,b = b, a+b\n",
    "        count += 1\n",
    "fib = test_fib()\n",
    "for i in fib:\n",
    "    print(i)"
   ]
  },
  {
   "cell_type": "code",
   "execution_count": 14,
   "id": "e1caa272-76dd-4a4c-b281-c7b3306d010d",
   "metadata": {},
   "outputs": [
    {
     "data": {
      "text/plain": [
       "['p', 'w', 's', 'k', 'i', 'l', 'l', 's']"
      ]
     },
     "execution_count": 14,
     "metadata": {},
     "output_type": "execute_result"
    }
   ],
   "source": [
    "\"\"\"\n",
    "Q7. Write a List Comprehension to iterate through the given string: ‘pwskills’.\n",
    "\n",
    "Expected output: ['p', 'w', 's', 'k', 'i', 'l', 'l', 's']\n",
    "Ans.\n",
    "\"\"\"\n",
    "a = \"pwskills\"\n",
    "b = []\n",
    "for i in a:\n",
    "    iter(i)\n",
    "    b.append(i)\n",
    "b"
   ]
  },
  {
   "cell_type": "code",
   "execution_count": 15,
   "id": "a36a7bac-bb07-4fdd-bdff-447e6e5f1ac9",
   "metadata": {},
   "outputs": [],
   "source": [
    "\"\"\"\n",
    "Q8. Write a python program to check whether a given number is Palindrome or not using a while loop.\n",
    "Ans.\n",
    "\"\"\"\n",
    "def is_palindrome(number):\n",
    "    original_number = number\n",
    "    reversed_number = 0\n",
    "\n",
    "    while number > 0:\n",
    "        digit = number % 10\n",
    "        reversed_number = (reversed_number * 10) + digit\n",
    "        number = number // 10\n",
    "\n",
    "    if original_number == reversed_number:\n",
    "        return True\n",
    "    else:\n",
    "        return False\n"
   ]
  },
  {
   "cell_type": "code",
   "execution_count": 17,
   "id": "4e6e8aae-005a-4182-9df8-ade853a4c2e7",
   "metadata": {},
   "outputs": [
    {
     "name": "stdin",
     "output_type": "stream",
     "text": [
      "Enter a number:  16461\n"
     ]
    },
    {
     "name": "stdout",
     "output_type": "stream",
     "text": [
      "16461 is a palindrome.\n"
     ]
    }
   ],
   "source": [
    "number = int(input(\"Enter a number: \"))\n",
    "if is_palindrome(number):\n",
    "    print(number, \"is a palindrome.\")\n",
    "else:\n",
    "    print(number, \"is not a palindrome.\")"
   ]
  },
  {
   "cell_type": "code",
   "execution_count": 2,
   "id": "c2d2d49b-8261-40f2-bbb8-0274cb1d5d15",
   "metadata": {},
   "outputs": [
    {
     "name": "stdout",
     "output_type": "stream",
     "text": [
      "1\n",
      "3\n",
      "5\n",
      "7\n",
      "9\n",
      "11\n",
      "13\n",
      "15\n",
      "17\n",
      "19\n",
      "21\n",
      "23\n",
      "25\n",
      "27\n",
      "29\n",
      "31\n",
      "33\n",
      "35\n",
      "37\n",
      "39\n",
      "41\n",
      "43\n",
      "45\n",
      "47\n",
      "49\n",
      "51\n",
      "53\n",
      "55\n",
      "57\n",
      "59\n",
      "61\n",
      "63\n",
      "65\n",
      "67\n",
      "69\n",
      "71\n",
      "73\n",
      "75\n",
      "77\n",
      "79\n",
      "81\n",
      "83\n",
      "85\n",
      "87\n",
      "89\n",
      "91\n",
      "93\n",
      "95\n",
      "97\n",
      "99\n"
     ]
    }
   ],
   "source": [
    "\"\"\"\n",
    "Q9. Write a code to print odd numbers from 1 to 100 using list comprehension.\n",
    "\n",
    "Note: Use a list comprehension to create a list from 1 to 100 and use another List comprehension to filter \n",
    "out odd numbers\n",
    "Ans.\n",
    "\"\"\"\n",
    "odd_numbers = [num for num in range(1, 101) if num % 2 != 0]\n",
    "\n",
    "for number in odd_numbers:\n",
    "    print(number)"
   ]
  },
  {
   "cell_type": "code",
   "execution_count": null,
   "id": "5cec3c4d-4c39-40a8-8132-340003313695",
   "metadata": {},
   "outputs": [],
   "source": []
  }
 ],
 "metadata": {
  "kernelspec": {
   "display_name": "Python 3 (ipykernel)",
   "language": "python",
   "name": "python3"
  },
  "language_info": {
   "codemirror_mode": {
    "name": "ipython",
    "version": 3
   },
   "file_extension": ".py",
   "mimetype": "text/x-python",
   "name": "python",
   "nbconvert_exporter": "python",
   "pygments_lexer": "ipython3",
   "version": "3.10.8"
  }
 },
 "nbformat": 4,
 "nbformat_minor": 5
}
