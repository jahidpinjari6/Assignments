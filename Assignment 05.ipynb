{
 "cells": [
  {
   "cell_type": "code",
   "execution_count": 1,
   "id": "d2b5c542-e795-4bfc-b5da-35054384307d",
   "metadata": {},
   "outputs": [],
   "source": [
    "\"\"\"\n",
    "Q1, Create a vehicle class with an init method having instance variables as name_of_vehicle, max_speed\n",
    "and average_of_vehicle.\n",
    "Ans. \n",
    "\"\"\"\n",
    "\n",
    "class vehicle:\n",
    "    def __init__(self, name_of_vehicle, max_speed, average_of_vehicle):\n",
    "        self.name_of_vehicle = name_of_vehicle\n",
    "        self.max_speed = max_speed\n",
    "        self.average_of_vehicle = average_of_vehicle\n",
    "        \n"
   ]
  },
  {
   "cell_type": "code",
   "execution_count": 3,
   "id": "95e4d3b3-7750-4684-8f2d-460100679dc6",
   "metadata": {},
   "outputs": [],
   "source": [
    "vehicle_obj = vehicle(\"Toyota\", 145, 32)"
   ]
  },
  {
   "cell_type": "code",
   "execution_count": 6,
   "id": "6ea31947-3a19-47a2-978b-8c2131381ab8",
   "metadata": {},
   "outputs": [
    {
     "data": {
      "text/plain": [
       "145"
      ]
     },
     "execution_count": 6,
     "metadata": {},
     "output_type": "execute_result"
    }
   ],
   "source": [
    "vehicle_obj.max_speed"
   ]
  },
  {
   "cell_type": "code",
   "execution_count": 3,
   "id": "a21a110b-77ab-4530-9f38-d7c553c97cfd",
   "metadata": {},
   "outputs": [],
   "source": [
    "\"\"\"\n",
    "Q2. Create a child class car from the vehicle class created in Que 1, which will inherit the vehicle class.\n",
    "Create a method named seating_capacity which takes capacity as an argument and returns the name of\n",
    "the vehicle and its seating capacity.\n",
    "Ans.\n",
    "\"\"\"\n",
    "class vehicle:\n",
    "    def __init__(self, name):\n",
    "        self.name = name\n",
    "        \n",
    "    def get_name(self):\n",
    "        return self.name\n",
    "        "
   ]
  },
  {
   "cell_type": "code",
   "execution_count": 10,
   "id": "e4972d84-cc7f-4028-9e96-18ce43eeafe2",
   "metadata": {},
   "outputs": [],
   "source": [
    "class car(vehicle):\n",
    "    def seating_capacity(self, capacity):\n",
    "        self.capacity = capacity\n",
    "        return f\"{self.name()} has a seating capacity of {capacity}.\"\n",
    "\n",
    "    "
   ]
  },
  {
   "cell_type": "code",
   "execution_count": 12,
   "id": "b60ce315-a657-4627-ab56-8b136ded4b26",
   "metadata": {},
   "outputs": [
    {
     "ename": "TypeError",
     "evalue": "vehicle.__init__() takes 2 positional arguments but 3 were given",
     "output_type": "error",
     "traceback": [
      "\u001b[0;31m---------------------------------------------------------------------------\u001b[0m",
      "\u001b[0;31mTypeError\u001b[0m                                 Traceback (most recent call last)",
      "Cell \u001b[0;32mIn[12], line 1\u001b[0m\n\u001b[0;32m----> 1\u001b[0m car_obj \u001b[38;5;241m=\u001b[39m \u001b[43mcar\u001b[49m\u001b[43m(\u001b[49m\u001b[38;5;124;43m\"\u001b[39;49m\u001b[38;5;124;43mInnova\u001b[39;49m\u001b[38;5;124;43m\"\u001b[39;49m\u001b[43m,\u001b[49m\u001b[43m \u001b[49m\u001b[38;5;241;43m6\u001b[39;49m\u001b[43m)\u001b[49m\n\u001b[1;32m      2\u001b[0m car_obj\u001b[38;5;241m.\u001b[39mget_name()\n",
      "\u001b[0;31mTypeError\u001b[0m: vehicle.__init__() takes 2 positional arguments but 3 were given"
     ]
    }
   ],
   "source": [
    "car_obj = car(\"Innova\", 6)\n",
    "car_obj.get_name()"
   ]
  },
  {
   "cell_type": "code",
   "execution_count": 10,
   "id": "085823da-83e0-409f-aa16-4ec871828e70",
   "metadata": {},
   "outputs": [],
   "source": [
    "\"\"\"\n",
    "Q3. What is multiple inheritance? Write a python code to demonstrate multiple inheritance.\n",
    "Ans.\n",
    "        Inheritance is defined as the ability of one class to derive from another class.\n",
    "        Multiple inheritance is defined as the ability of one class to derive from one or more base classes.\n",
    "\"\"\"\n",
    "class vehicle1:\n",
    "    def vehicle_name1(self):\n",
    "        return \"This is my vehicle no. 1\"\n",
    "    \n",
    "class vehicle2:\n",
    "    def vehicle_name2(self):\n",
    "        return \"This is my vehicle no. 2\"\n",
    "    \n",
    "class vehicle(vehicle1, vehicle2):\n",
    "    pass\n",
    "    "
   ]
  },
  {
   "cell_type": "code",
   "execution_count": 13,
   "id": "934a2071-2586-4f1f-892f-ca2a5314277b",
   "metadata": {},
   "outputs": [],
   "source": [
    "vehicle_obj = vehicle()"
   ]
  },
  {
   "cell_type": "code",
   "execution_count": 15,
   "id": "3b4f6bfb-a5ef-4b09-89c5-464d843e32c7",
   "metadata": {},
   "outputs": [
    {
     "data": {
      "text/plain": [
       "'This is my vehicle no. 1'"
      ]
     },
     "execution_count": 15,
     "metadata": {},
     "output_type": "execute_result"
    }
   ],
   "source": [
    "vehicle_obj.vehicle_name1()"
   ]
  },
  {
   "cell_type": "code",
   "execution_count": 33,
   "id": "c0e0b264-dc81-43da-a9ec-54cf2a9bec62",
   "metadata": {},
   "outputs": [],
   "source": [
    "\"\"\"\n",
    "Q4. What are getter and setter in python? Create a class and create a getter and a setter method in this\n",
    "class.\n",
    "Ans.\n",
    "        getter is defined as the function which retrieves the values fron the function created in class\n",
    "        setter is defined as the function which is used to add validation logic in function which is created in class\n",
    "\"\"\"\n",
    "class age:\n",
    "    def __init__(self, age = 0):\n",
    "        self.age = age\n",
    "        \n",
    "#getter\n",
    "    def get_age(self):\n",
    "        return self.age\n",
    "        \n",
    "#setter\n",
    "    def set_age(self, x):\n",
    "        self.age = x\n",
    "        return x\n",
    "        "
   ]
  },
  {
   "cell_type": "code",
   "execution_count": 34,
   "id": "c8801e05-8bb0-4f98-89c3-8ae6c6a32f57",
   "metadata": {},
   "outputs": [],
   "source": [
    "jahid = age(32)"
   ]
  },
  {
   "cell_type": "code",
   "execution_count": 35,
   "id": "45ebf770-8b3f-44f5-a808-3f6c8c323e21",
   "metadata": {},
   "outputs": [
    {
     "data": {
      "text/plain": [
       "32"
      ]
     },
     "execution_count": 35,
     "metadata": {},
     "output_type": "execute_result"
    }
   ],
   "source": [
    "jahid.get_age()"
   ]
  },
  {
   "cell_type": "code",
   "execution_count": 36,
   "id": "be921550-e8dc-4cab-94d8-dcaf735addf1",
   "metadata": {},
   "outputs": [
    {
     "data": {
      "text/plain": [
       "65"
      ]
     },
     "execution_count": 36,
     "metadata": {},
     "output_type": "execute_result"
    }
   ],
   "source": [
    "jahid.set_age(65)"
   ]
  },
  {
   "cell_type": "code",
   "execution_count": 38,
   "id": "d9ef601c-0865-4582-bc9d-70e9d6f1b40b",
   "metadata": {},
   "outputs": [],
   "source": [
    "\"\"\"\n",
    "Q5.What is method overriding in python? Write a python code to demonstrate method overriding.\n",
    "Ans.\n",
    "\n",
    "        Method overriding allows us to change the implementation of a function in the child class that is defined in the parent class\n",
    "\"\"\"\n",
    "class pwskills:\n",
    "    \n",
    "    def batch1(self):\n",
    "        return \"Rohan belongs to batch no. 1\"\n",
    "    \n",
    "    def batch2(self):\n",
    "        return \"Gaurav belongs to batch no. 2\""
   ]
  },
  {
   "cell_type": "code",
   "execution_count": 39,
   "id": "05659ad7-62b3-4c6e-ba92-9ea8345f6005",
   "metadata": {},
   "outputs": [],
   "source": [
    "class pwskills11(pwskills):\n",
    "    def batch1(self):\n",
    "        return \"Rohan belongs to batch no. 1 but can be shifted to third batch\""
   ]
  },
  {
   "cell_type": "code",
   "execution_count": 40,
   "id": "12463e25-0bb6-44b5-8c40-6e349cafda8e",
   "metadata": {},
   "outputs": [],
   "source": [
    "pwskills_obj = pwskills11()"
   ]
  },
  {
   "cell_type": "code",
   "execution_count": 41,
   "id": "d7a23082-694e-425e-b767-94625627b3d4",
   "metadata": {},
   "outputs": [
    {
     "data": {
      "text/plain": [
       "'Rohan belongs to batch no. 1 but can be shifted to third batch'"
      ]
     },
     "execution_count": 41,
     "metadata": {},
     "output_type": "execute_result"
    }
   ],
   "source": [
    "pwskills_obj.batch1()"
   ]
  },
  {
   "cell_type": "code",
   "execution_count": null,
   "id": "ce3eb66c-fc0d-41fd-89b5-ab60df6c671b",
   "metadata": {},
   "outputs": [],
   "source": []
  }
 ],
 "metadata": {
  "kernelspec": {
   "display_name": "Python 3 (ipykernel)",
   "language": "python",
   "name": "python3"
  },
  "language_info": {
   "codemirror_mode": {
    "name": "ipython",
    "version": 3
   },
   "file_extension": ".py",
   "mimetype": "text/x-python",
   "name": "python",
   "nbconvert_exporter": "python",
   "pygments_lexer": "ipython3",
   "version": "3.10.8"
  }
 },
 "nbformat": 4,
 "nbformat_minor": 5
}
