{
 "cells": [
  {
   "cell_type": "code",
   "execution_count": null,
   "id": "363329c5-a80e-4e6c-98b0-88884c50f372",
   "metadata": {},
   "outputs": [],
   "source": [
    "\"\"\"\n",
    "Q1. what is multithreading in python? why is it used? Name the module used to handle threads in python\n",
    "Ans.\n",
    "Multithreading is a programming technique that allows multiple tasks to be executed simultaneously within a single process. \n",
    "This can be useful for improving the performance of your code by allowing multiple tasks to run at the same time.\n",
    "\n",
    "Multithreading is used in Python for a variety of reasons, including:\n",
    "\n",
    "To improve the performance of your code by allowing multiple tasks to run at the same time.\n",
    "To handle concurrent requests from multiple users.\n",
    "To perform background tasks while the user is interacting with your application.\n",
    "To create complex animations or visualizations.\n",
    "The threading module is used to handle threads in Python. The threading module provides a number of classes and functions that can be used \n",
    "to create and manage threads.\n",
    "\"\"\""
   ]
  },
  {
   "cell_type": "code",
   "execution_count": null,
   "id": "70242e61-6fb8-4014-b1fb-eefd500d114d",
   "metadata": {},
   "outputs": [],
   "source": [
    "\"\"\"\n",
    "Q2. why threading module used? write the use of the following functions\n",
    "activeCount()\n",
    "currentThread()\n",
    "enumerate()\n",
    "\n",
    "Ans.\n",
    "The threading module is used to handle threads in Python. The threading module provides a number of classes and functions that can be used to create and manage threads.\n",
    "\n",
    "Here are some of the reasons why the threading module is used:\n",
    "\n",
    "To improve the performance of your code by allowing multiple tasks to run at the same time.\n",
    "To handle concurrent requests from multiple users.\n",
    "To perform background tasks while the user is interacting with your application.\n",
    "To create complex animations or visualizations.\n",
    "The following functions are used in the threading module:\n",
    "\n",
    "activeCount(): This function returns the number of active threads in the current process.\n",
    "currentThread(): This function returns the current thread object.\n",
    "enumerate(): This function returns a list of all the threads in the current process.\n",
    "\"\"\""
   ]
  },
  {
   "cell_type": "code",
   "execution_count": null,
   "id": "94e82ca9-7eaa-4b4d-bc7e-1ce5f8efb6f1",
   "metadata": {},
   "outputs": [],
   "source": [
    "\"\"\"\n",
    "Q3. Explain the following functions\n",
    "run()\n",
    "start()\n",
    "join()\n",
    "isAlive()\n",
    "\n",
    "Ans.\n",
    "run(): This function is the entry point for a thread. It is called by the start() function.\n",
    "start(): This function starts a thread. It calls the run() function in a separate thread of execution.\n",
    "join(): This function waits for a thread to finish. It blocks the calling thread until the thread that is being joined has finished its execution.\n",
    "isAlive(): This function returns a Boolean value indicating whether a thread is still alive.\n",
    "Here is an explanation of each function:\n",
    "\n",
    "run(): The run() function is the entry point for a thread. It is called by the start() function. The run() function is where the code that the \n",
    "thread will execute is defined.\n",
    "start(): The start() function starts a thread. It calls the run() function in a separate thread of execution. The start() function must be called\n",
    "before the run() function can be called.\n",
    "join(): The join() function waits for a thread to finish. It blocks the calling thread until the thread that is being joined has finished its \n",
    "execution. The join() function can be used to ensure that all of the threads in a program have finished executing before the program terminates.\n",
    "isAlive(): The isAlive() function returns a Boolean value indicating whether a thread is still alive. The isAlive() function can be used to check \n",
    "if a thread has finished executing.\n",
    "\"\"\""
   ]
  },
  {
   "cell_type": "code",
   "execution_count": 1,
   "id": "f91c740e-3b11-4f43-bfcb-6fbcb64f9d1c",
   "metadata": {},
   "outputs": [
    {
     "name": "stdout",
     "output_type": "stream",
     "text": [
      "1\n",
      "4\n",
      "9\n",
      "16\n",
      "25\n",
      "1\n",
      "8\n",
      "27\n",
      "64\n",
      "125\n"
     ]
    }
   ],
   "source": [
    "\"\"\"\n",
    "Q4. write a python program to create two threads. Thread one must print the list of squares and thread \n",
    "two must print the list of cubes\n",
    "Ans.\n",
    "\"\"\"\n",
    "import threading\n",
    "\n",
    "def square_numbers(numbers):\n",
    "    for i in numbers:\n",
    "        print(i * i)\n",
    "\n",
    "def cube_numbers(numbers):\n",
    "    for i in numbers:\n",
    "        print(i * i * i)\n",
    "\n",
    "numbers = [1, 2, 3, 4, 5]\n",
    "\n",
    "thread1 = threading.Thread(target=square_numbers, args=(numbers,))\n",
    "thread2 = threading.Thread(target=cube_numbers, args=(numbers,))\n",
    "\n",
    "thread1.start()\n",
    "thread2.start()\n",
    "\n",
    "thread1.join()\n",
    "thread2.join()"
   ]
  },
  {
   "cell_type": "code",
   "execution_count": null,
   "id": "9f1b4490-2d85-4de2-8a9d-262c8d72f98e",
   "metadata": {},
   "outputs": [],
   "source": [
    "\"\"\"\n",
    "Q5. State advantages and disadvantages of multithreading\n",
    "Ans.\n",
    "Advantages\n",
    "\n",
    "Increased performance: Multithreading can improve the performance of your code by allowing multiple tasks to run at the same time. \n",
    "This can be especially helpful for tasks that are CPU-intensive or that require a lot of I/O.\n",
    "Improved responsiveness: Multithreading can improve the responsiveness of your application by allowing it to respond to user input while other \n",
    "tasks are running in the background.\n",
    "Improved scalability: Multithreading can make your application more scalable by allowing it to handle more concurrent requests.\n",
    "\n",
    "Disadvantages\n",
    "\n",
    "Concurrency issues: Multithreading can introduce concurrency issues, such as race conditions and deadlocks. These issues can be difficult to \n",
    "debug and can cause your application to crash.\n",
    "Resource contention: Multithreading can also lead to resource contention, which can slow down your application. This is because multiple threads \n",
    "may be competing for the same resources, such as CPU time or memory.\n",
    "Complexity: Multithreading can make your code more complex, which can make it more difficult to understand and maintain.\n",
    "\"\"\""
   ]
  },
  {
   "cell_type": "code",
   "execution_count": null,
   "id": "9fb14dc6-cfc1-4d34-964d-54147daca477",
   "metadata": {},
   "outputs": [],
   "source": [
    "\"\"\"\n",
    "Q6. Explain deadlocks and race conditions\n",
    "Ans.\n",
    "Deadlock\n",
    "\n",
    "A deadlock is a situation in which two or more threads are blocked indefinitely, waiting for each other to release a resource. \n",
    "This can happen when two threads are each holding a resource that the other thread needs. For example, let's say two threads are both trying to \n",
    "access a file. Thread A has the file open for reading, and thread B has the file open for writing. If thread A tries to write to the file, \n",
    "it will block because thread B is holding the file open for reading. Similarly, if thread B tries to read from the file, it will block because \n",
    "thread A is holding the file open for writing. This situation is a deadlock because neither thread can proceed until the other thread releases \n",
    "the resource that it is holding.\n",
    "\n",
    "Race Condition\n",
    "\n",
    "A race condition is a situation in which the outcome of a program depends on the order in which two or more threads access a shared resource. \n",
    "This can happen when two threads are both trying to modify the same data at the same time. For example, let's say two threads are both trying to \n",
    "increment a counter. If thread A increments the counter before thread B, the final value of the counter will be different than if thread B increments \n",
    "the counter before thread A. This situation is a race condition because the final value of the counter depends on the order in which the two threads \n",
    "access the shared resource.\n",
    "\"\"\""
   ]
  }
 ],
 "metadata": {
  "kernelspec": {
   "display_name": "Python 3 (ipykernel)",
   "language": "python",
   "name": "python3"
  },
  "language_info": {
   "codemirror_mode": {
    "name": "ipython",
    "version": 3
   },
   "file_extension": ".py",
   "mimetype": "text/x-python",
   "name": "python",
   "nbconvert_exporter": "python",
   "pygments_lexer": "ipython3",
   "version": "3.10.8"
  }
 },
 "nbformat": 4,
 "nbformat_minor": 5
}
