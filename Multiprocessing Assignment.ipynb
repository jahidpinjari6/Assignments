{
 "cells": [
  {
   "cell_type": "code",
   "execution_count": null,
   "id": "62a96e18-adb4-4541-8141-ce9651c81989",
   "metadata": {},
   "outputs": [],
   "source": [
    "\"\"\"\n",
    "Q1. What is multiprocessing in python? Why is it useful?\n",
    "Ans.\n",
    "Multiprocessing is a programming technique that allows multiple processes to run at the same time. This can be useful for improving the performance \n",
    "of your code by allowing multiple tasks to run simultaneously.\n",
    "\n",
    "In Python, multiprocessing is implemented using the multiprocessing module. The multiprocessing module provides a number of classes and functions \n",
    "that can be used to create and manage processes.\n",
    "\n",
    "Here are some of the reasons why multiprocessing is useful:\n",
    "\n",
    "Increased performance: Multiprocessing can improve the performance of your code by allowing multiple tasks to run at the same time. This can be \n",
    "especially helpful for tasks that are CPU-intensive or that require a lot of I/O.\n",
    "Improved scalability: Multiprocessing can make your application more scalable by allowing it to handle more concurrent requests.\n",
    "Reduced latency: Multiprocessing can reduce the latency of your application by allowing it to respond to user input more quickly.\n",
    "Improved fault tolerance: Multiprocessing can improve the fault tolerance of your application by allowing it to continue running even \n",
    "if one of the processes fails.\n",
    "\"\"\""
   ]
  },
  {
   "cell_type": "code",
   "execution_count": null,
   "id": "1a8d712f-1bea-4069-9690-c56213f4a6f9",
   "metadata": {},
   "outputs": [],
   "source": [
    "\"\"\"\n",
    "Q2. What are the differences between multiprocessing and multithreading?\n",
    "Ans.\n",
    "Multiprocessing and multithreading are two programming techniques that allow multiple tasks to run at the same time. However, there are some key differences between the two techniques.\n",
    "\n",
    "Multiprocessing\n",
    "\n",
    "Processes: A process is a separate instance of a program. Each process has its own memory space, its own CPU, and its own code.\n",
    "Communication: Processes communicate with each other by passing messages.\n",
    "Performance: Multiprocessing can improve the performance of your code by allowing multiple tasks to run on different CPUs.\n",
    "Multithreading\n",
    "\n",
    "Threads: A thread is a lightweight process. Each thread shares the same memory space, CPU, and code as the other threads in the process.\n",
    "Communication: Threads communicate with each other by sharing variables.\n",
    "Performance: Multithreading can improve the performance of your code by allowing multiple tasks to run on the same CPU.\n",
    "\"\"\""
   ]
  },
  {
   "cell_type": "code",
   "execution_count": 1,
   "id": "bc344c99-9c23-49b7-a55f-aac5d87ba279",
   "metadata": {},
   "outputs": [
    {
     "name": "stdout",
     "output_type": "stream",
     "text": [
      "This is my process Bard\n"
     ]
    }
   ],
   "source": [
    "\"\"\"\n",
    "Q3. Write a python code to create a process using the multiprocessing module\n",
    "Ans.\n",
    "\"\"\"\n",
    "import multiprocessing\n",
    "\n",
    "def my_process(name):\n",
    "    print(\"This is my process\", name)\n",
    "\n",
    "if __name__ == \"__main__\":\n",
    "    process = multiprocessing.Process(target=my_process, args=(\"Bard\",))\n",
    "    process.start()\n",
    "    process.join()"
   ]
  },
  {
   "cell_type": "code",
   "execution_count": null,
   "id": "99aac37d-33b9-40fd-b61d-9cd10626da52",
   "metadata": {},
   "outputs": [],
   "source": [
    "\"\"\"\n",
    "Q4. What is a multiprocessing pool in python? Why is it used?\n",
    "Ans.\n",
    "A multiprocessing pool in Python is a tool that allows you to run multiple processes in parallel. This can be useful for improving the performance \n",
    "of your code by allowing multiple tasks to run at the same time.\n",
    "\n",
    "The multiprocessing module in Python provides a Pool class that can be used to create and manage a multiprocessing pool. The Pool class has a \n",
    "number of methods that can be used to submit tasks to the pool and get the results of the tasks.\n",
    "\n",
    "Here are some of the reasons why a multiprocessing pool is used:\n",
    "\n",
    "Increased performance: A multiprocessing pool can improve the performance of your code by allowing multiple tasks to run at the same time. \n",
    "This can be especially helpful for tasks that are CPU-intensive or that require a lot of I/O.\n",
    "Improved scalability: A multiprocessing pool can make your application more scalable by allowing it to handle more concurrent requests.\n",
    "Reduced latency: A multiprocessing pool can reduce the latency of your application by allowing it to respond to user input more quickly.\n",
    "Improved fault tolerance: A multiprocessing pool can improve the fault tolerance of your application by allowing it to continue running even \n",
    "if one of the processes fails.\n",
    "\"\"\""
   ]
  },
  {
   "cell_type": "code",
   "execution_count": null,
   "id": "223ed77a-6562-40fd-8ebb-dd255cd94418",
   "metadata": {},
   "outputs": [],
   "source": [
    "\"\"\"\n",
    "Q5. How can we create a pool of worker processes in python using the multiprocessing module?\n",
    "Ans.\n",
    "The multiprocessing module provides a Pool class that can be used to create and manage a multiprocessing pool. The Pool class has a number of methods that can be used to submit tasks to the pool and get the results of the tasks.\n",
    "\n",
    "In this example, we create a multiprocessing pool with 4 workers. The map() method is used to submit 10 tasks to the pool. The results variable will contain the results of the tasks.\n",
    "\n",
    "The Pool class has a number of other methods that can be used to manage the pool, such as:\n",
    "\n",
    "terminate(): This method terminates the pool and all of the worker processes.\n",
    "join(): This method waits for all of the worker processes to finish.\n",
    "get(): This method gets the result of a task.\n",
    "apply(): This method submits a task to the pool and returns the result of the task.\n",
    "\"\"\""
   ]
  },
  {
   "cell_type": "code",
   "execution_count": 2,
   "id": "65ce6fb7-bf2f-4450-812e-923af09745d9",
   "metadata": {},
   "outputs": [
    {
     "name": "stdout",
     "output_type": "stream",
     "text": [
      "0\n",
      "1\n",
      "2\n",
      "3\n"
     ]
    }
   ],
   "source": [
    "\"\"\"\n",
    "Q6. Write a python program to create 4 processes, each process should print a different number using the \n",
    "multiprocessing module in python.\n",
    "Ans.\n",
    "\"\"\"\n",
    "import multiprocessing\n",
    "\n",
    "def my_process(number):\n",
    "    print(number)\n",
    "\n",
    "if __name__ == \"__main__\":\n",
    "    processes = []\n",
    "    for i in range(4):\n",
    "        process = multiprocessing.Process(target=my_process, args=(i,))\n",
    "        processes.append(process)\n",
    "\n",
    "    for process in processes:\n",
    "        process.start()\n",
    "\n",
    "    for process in processes:\n",
    "        process.join()"
   ]
  },
  {
   "cell_type": "code",
   "execution_count": null,
   "id": "9771946a-8942-4480-8858-a7f446a23319",
   "metadata": {},
   "outputs": [],
   "source": []
  }
 ],
 "metadata": {
  "kernelspec": {
   "display_name": "Python 3 (ipykernel)",
   "language": "python",
   "name": "python3"
  },
  "language_info": {
   "codemirror_mode": {
    "name": "ipython",
    "version": 3
   },
   "file_extension": ".py",
   "mimetype": "text/x-python",
   "name": "python",
   "nbconvert_exporter": "python",
   "pygments_lexer": "ipython3",
   "version": "3.10.8"
  }
 },
 "nbformat": 4,
 "nbformat_minor": 5
}
