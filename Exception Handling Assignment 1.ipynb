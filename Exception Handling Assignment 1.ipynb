{
 "cells": [
  {
   "cell_type": "code",
   "execution_count": null,
   "id": "9757db85-2ac2-47f3-9091-5facfc438021",
   "metadata": {},
   "outputs": [],
   "source": [
    "\"\"\"\n",
    "Q1. What is an Exception in python? Write the difference between Exceptions and syntax errors\n",
    "Ans.\n",
    "    An exception in Python is an event that occurs during the execution of a program that disrupts the normal flow of the program's execution. \n",
    "    Exceptions can be caused by a variety of things, such as invalid input, accessing a nonexistent object, or dividing by zero.\n",
    "\n",
    "    When an exception occurs, the Python interpreter stops executing the current line of code and raises an exception object. \n",
    "    This object contains information about the exception, such as the type of exception, the line number where the exception occurred, \n",
    "    and a message describing the exception.\n",
    "\n",
    "    Exceptions can be handled by using the try and except statements. The try statement tells the Python interpreter to execute a block of code, \n",
    "    and the except statement tells the interpreter what to do if an exception occurs.\n",
    "\"\"\""
   ]
  },
  {
   "cell_type": "code",
   "execution_count": 3,
   "id": "fd885f4e-2695-46bd-89ad-d2b385c0cf26",
   "metadata": {},
   "outputs": [
    {
     "ename": "Exception",
     "evalue": "n must be non-negative",
     "output_type": "error",
     "traceback": [
      "\u001b[0;31m---------------------------------------------------------------------------\u001b[0m",
      "\u001b[0;31mException\u001b[0m                                 Traceback (most recent call last)",
      "Cell \u001b[0;32mIn[3], line 20\u001b[0m\n\u001b[1;32m     17\u001b[0m         \u001b[38;5;28;01mreturn\u001b[39;00m \u001b[38;5;241m1\u001b[39m\n\u001b[1;32m     18\u001b[0m     \u001b[38;5;28;01mreturn\u001b[39;00m n \u001b[38;5;241m*\u001b[39m factorial(n \u001b[38;5;241m-\u001b[39m \u001b[38;5;241m1\u001b[39m)\n\u001b[0;32m---> 20\u001b[0m \u001b[38;5;28mprint\u001b[39m(\u001b[43mfactorial\u001b[49m\u001b[43m(\u001b[49m\u001b[38;5;241;43m-\u001b[39;49m\u001b[38;5;241;43m1\u001b[39;49m\u001b[43m)\u001b[49m)\n",
      "Cell \u001b[0;32mIn[3], line 15\u001b[0m, in \u001b[0;36mfactorial\u001b[0;34m(n)\u001b[0m\n\u001b[1;32m     13\u001b[0m \u001b[38;5;28;01mdef\u001b[39;00m \u001b[38;5;21mfactorial\u001b[39m(n):\n\u001b[1;32m     14\u001b[0m     \u001b[38;5;28;01mif\u001b[39;00m n \u001b[38;5;241m<\u001b[39m \u001b[38;5;241m0\u001b[39m:\n\u001b[0;32m---> 15\u001b[0m         \u001b[38;5;28;01mraise\u001b[39;00m \u001b[38;5;167;01mException\u001b[39;00m(\u001b[38;5;124m\"\u001b[39m\u001b[38;5;124mn must be non-negative\u001b[39m\u001b[38;5;124m\"\u001b[39m)\n\u001b[1;32m     16\u001b[0m     \u001b[38;5;28;01mif\u001b[39;00m n \u001b[38;5;241m==\u001b[39m \u001b[38;5;241m0\u001b[39m:\n\u001b[1;32m     17\u001b[0m         \u001b[38;5;28;01mreturn\u001b[39;00m \u001b[38;5;241m1\u001b[39m\n",
      "\u001b[0;31mException\u001b[0m: n must be non-negative"
     ]
    }
   ],
   "source": [
    "\"\"\"\n",
    "Q2. What happens when an exception is not handled? Explain with one example.\n",
    "Ans. \n",
    "    \n",
    "    If an exception is not handled, the Python interpreter will stop executing the current line of code and raise an exception object. \n",
    "    This object contains information about the exception, such as the type of exception, the line number where the exception occurred, \n",
    "    and a message describing the exception.\n",
    "\n",
    "    The exception object will then be passed to the sys.excepthook() function, which is responsible for displaying the exception to the user. \n",
    "    By default, the sys.excepthook() function will print a stack trace, which is a list of the lines of code that were executed leading up to the \n",
    "    exception.\n",
    "\"\"\"\n",
    "def factorial(n):\n",
    "    if n < 0:\n",
    "        raise Exception(\"n must be non-negative\")\n",
    "    if n == 0:\n",
    "        return 1\n",
    "    return n * factorial(n - 1)\n",
    "\n",
    "print(factorial(-1))"
   ]
  },
  {
   "cell_type": "code",
   "execution_count": 4,
   "id": "ed2818fb-703b-4f85-94db-040b1c1bd1b4",
   "metadata": {},
   "outputs": [
    {
     "name": "stdout",
     "output_type": "stream",
     "text": [
      "n must be non-negative\n"
     ]
    }
   ],
   "source": [
    "\"\"\"\n",
    "Q3. Which python statements are used to catch and handle exceptions? Explain with one example\n",
    "Ans.\n",
    "    The try and except statements are used to catch and handle exceptions in Python. The try statement tells the Python interpreter to execute \n",
    "    a block of code, and the except statement tells the interpreter what to do if an exception occurs.\n",
    "\"\"\"\n",
    "\n",
    "def factorial(n):\n",
    "    if n < 0:\n",
    "        raise Exception(\"n must be non-negative\")\n",
    "    if n == 0:\n",
    "        return 1\n",
    "    return n * factorial(n - 1)\n",
    "\n",
    "try:\n",
    "    print(factorial(-1))\n",
    "except Exception as e:\n",
    "    print(e)"
   ]
  },
  {
   "cell_type": "code",
   "execution_count": 6,
   "id": "88cd4e6b-a348-43e8-b22c-62606338c4fa",
   "metadata": {},
   "outputs": [
    {
     "ename": "SyntaxError",
     "evalue": "expected 'except' or 'finally' block (808847461.py, line 19)",
     "output_type": "error",
     "traceback": [
      "\u001b[0;36m  Cell \u001b[0;32mIn[6], line 19\u001b[0;36m\u001b[0m\n\u001b[0;31m    else:\u001b[0m\n\u001b[0m    ^\u001b[0m\n\u001b[0;31mSyntaxError\u001b[0m\u001b[0;31m:\u001b[0m expected 'except' or 'finally' block\n"
     ]
    }
   ],
   "source": [
    "\"\"\"\n",
    "Q4. Explain with one example.\n",
    "    1. try and else\n",
    "    2. finally \n",
    "    3. raise\n",
    "Ans.\n",
    "\"\"\"\n",
    "\n",
    "#1. try and else\n",
    "def factorial(n):\n",
    "    if n < 0:\n",
    "        raise Exception(\"n must be non-negative\")\n",
    "    if n == 0:\n",
    "        return 1\n",
    "    return n * factorial(n - 1)\n",
    "\n",
    "try:\n",
    "    print(factorial(-1))\n",
    "else:\n",
    "    print(\"The number is non-negative\")\n",
    "\n",
    "#2.finally\n",
    "def read_file(filename):\n",
    "    try:\n",
    "        with open(filename, \"r\") as f:\n",
    "            return f.read()\n",
    "    finally:\n",
    "        f.close()\n",
    "print(read_file(\"myfile.txt\"))\n",
    "\n",
    "#3. raise\n",
    "def factorial(n):\n",
    "    if n < 0:\n",
    "        raise Exception(\"n must be non-negative\")\n",
    "    if n == 0:\n",
    "        return 1\n",
    "    return n * factorial(n - 1)\n",
    "\n",
    "try:\n",
    "    print(factorial(-1))\n",
    "except Exception as e:\n",
    "    print(e)"
   ]
  },
  {
   "cell_type": "code",
   "execution_count": 7,
   "id": "6e64fa49-7e5a-4bc6-b557-38f0740110ee",
   "metadata": {},
   "outputs": [
    {
     "name": "stdout",
     "output_type": "stream",
     "text": [
      "n must be non-negative\n"
     ]
    }
   ],
   "source": [
    "\"\"\"\n",
    "Q5. What are Custom Exceptions in python? Why do we need Custom Exceptions? Explain with an example.\n",
    "Ans.\n",
    "\n",
    "Custom exceptions are exceptions that are created by the programmer. They are used to provide more specific information about the error that occurred.\n",
    "\n",
    "There are several reasons why we might want to use custom exceptions. First, they can help us to debug our code more effectively. \n",
    "When an exception is raised, the message associated with the exception can give us a clue about what went wrong. \n",
    "Custom exceptions can provide more specific information about the error, which can make it easier to track down the problem.\n",
    "\"\"\"\n",
    "\n",
    "class MyException(Exception):\n",
    "    \"\"\"This is a custom exception.\"\"\"\n",
    "\n",
    "    def __init__(self, message):\n",
    "        super().__init__(message)\n",
    "\n",
    "def factorial(n):\n",
    "    if n < 0:\n",
    "        raise MyException(\"n must be non-negative\")\n",
    "    if n == 0:\n",
    "        return 1\n",
    "    return n * factorial(n - 1)\n",
    "\n",
    "try:\n",
    "    print(factorial(-1))\n",
    "except MyException as e:\n",
    "    print(e)"
   ]
  },
  {
   "cell_type": "code",
   "execution_count": 8,
   "id": "bfe06e50-179a-41ee-b14b-fe5abf003373",
   "metadata": {},
   "outputs": [
    {
     "name": "stdout",
     "output_type": "stream",
     "text": [
      "n must be non-negative\n"
     ]
    }
   ],
   "source": [
    "\"\"\"\n",
    "Q6. Create a custom exception class. Use this class to handle an exception.\n",
    "Ans.\n",
    "\"\"\"\n",
    "\n",
    "class NegativeNumberException(Exception):\n",
    "    \"\"\"This is a custom exception for negative numbers.\"\"\"\n",
    "\n",
    "    def __init__(self, message):\n",
    "        super().__init__(message)\n",
    "\n",
    "def factorial(n):\n",
    "    if n < 0:\n",
    "        raise NegativeNumberException(\"n must be non-negative\")\n",
    "    if n == 0:\n",
    "        return 1\n",
    "    return n * factorial(n - 1)\n",
    "\n",
    "try:\n",
    "    print(factorial(-1))\n",
    "except NegativeNumberException as e:\n",
    "    print(e)"
   ]
  },
  {
   "cell_type": "code",
   "execution_count": null,
   "id": "673e7d36-c911-4d7e-bef0-f00ca3598089",
   "metadata": {},
   "outputs": [],
   "source": []
  }
 ],
 "metadata": {
  "kernelspec": {
   "display_name": "Python 3 (ipykernel)",
   "language": "python",
   "name": "python3"
  },
  "language_info": {
   "codemirror_mode": {
    "name": "ipython",
    "version": 3
   },
   "file_extension": ".py",
   "mimetype": "text/x-python",
   "name": "python",
   "nbconvert_exporter": "python",
   "pygments_lexer": "ipython3",
   "version": "3.10.8"
  }
 },
 "nbformat": 4,
 "nbformat_minor": 5
}
