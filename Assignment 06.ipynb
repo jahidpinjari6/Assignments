{
 "cells": [
  {
   "cell_type": "code",
   "execution_count": 6,
   "id": "08faf450-115c-4b53-a01b-d9b67047839e",
   "metadata": {},
   "outputs": [],
   "source": [
    "\"\"\"\n",
    "Q1. Explain Class and Object with respect to Object-Oriented Programming. Give a suitable example.\n",
    "Ans.\n",
    "        Class :-\n",
    "        Class in oops is defined as the blueprint or the raw structure of code that has the max capacity of reusability and\n",
    "        used to create objects. It is object constructor.\n",
    "        \n",
    "        Object :- \n",
    "        Object in oops is defined as the collection of data i.e variables and methods(functions)\n",
    "\"\"\"\n",
    "class pwskills:\n",
    "    def course(self, course_name ):\n",
    "        self.course_name = course_name"
   ]
  },
  {
   "cell_type": "code",
   "execution_count": 7,
   "id": "8eeb1bc6-51d8-4de7-81b6-096d6ffa43bc",
   "metadata": {},
   "outputs": [],
   "source": [
    "pw = pwskills()"
   ]
  },
  {
   "cell_type": "code",
   "execution_count": 10,
   "id": "2ee9a195-4dd1-4a70-8379-057517419d22",
   "metadata": {},
   "outputs": [],
   "source": [
    "pw.course(\"data science masters\")"
   ]
  },
  {
   "cell_type": "code",
   "execution_count": 11,
   "id": "0854db45-67b0-43fe-93f6-030bad3ea5c2",
   "metadata": {},
   "outputs": [
    {
     "data": {
      "text/plain": [
       "'data science masters'"
      ]
     },
     "execution_count": 11,
     "metadata": {},
     "output_type": "execute_result"
    }
   ],
   "source": [
    "pw.course_name"
   ]
  },
  {
   "cell_type": "code",
   "execution_count": null,
   "id": "0198a5f8-01a7-4c04-8fd7-170cf05ff757",
   "metadata": {},
   "outputs": [],
   "source": [
    "\"\"\"\n",
    "Q2. Name the four pillars of OOPs.\n",
    "Ans. \n",
    "        Encapsulation\n",
    "        Polymorphism\n",
    "        Abstraction\n",
    "        Inheritance\n",
    "\"\"\""
   ]
  },
  {
   "cell_type": "code",
   "execution_count": 12,
   "id": "9faa2d17-8db1-4e1f-a3c7-b8533fffc28e",
   "metadata": {},
   "outputs": [],
   "source": [
    "\"\"\"\n",
    "Q3. Explain why the __init__() function is used. Give a suitable example.\n",
    "Ans. \n",
    "        __init__ is a magic/dunder function which is used to pass the data in the existing function of a class.\n",
    "\"\"\"\n",
    "class pwskills1:\n",
    "    def __init__(self, course_name, course_price):\n",
    "        self.course_name = course_name\n",
    "        self.course_price = course_price"
   ]
  },
  {
   "cell_type": "code",
   "execution_count": 13,
   "id": "c9d6e86b-d2a7-45e4-aa1a-974350fe318f",
   "metadata": {},
   "outputs": [],
   "source": [
    "pw1 = pwskills1(\"data science masters\", 3500)"
   ]
  },
  {
   "cell_type": "code",
   "execution_count": 14,
   "id": "1cd52666-2d53-4edf-b759-40b03cf037f5",
   "metadata": {},
   "outputs": [
    {
     "data": {
      "text/plain": [
       "3500"
      ]
     },
     "execution_count": 14,
     "metadata": {},
     "output_type": "execute_result"
    }
   ],
   "source": [
    "pw1.course_price"
   ]
  },
  {
   "cell_type": "code",
   "execution_count": null,
   "id": "43d803ba-0067-4aa6-8405-5519e8ad2ff2",
   "metadata": {},
   "outputs": [],
   "source": [
    "\"\"\"\n",
    "Q4. Why self is used in OOPs?\n",
    "Ans. \n",
    "        self is used in the argument of a function which refers to the main class. it helps to function bind with a class\n",
    "\"\"\""
   ]
  },
  {
   "cell_type": "code",
   "execution_count": null,
   "id": "7288e1ae-d8d0-443b-aba2-8751f3b12d8f",
   "metadata": {},
   "outputs": [],
   "source": []
  },
  {
   "cell_type": "code",
   "execution_count": 20,
   "id": "2886f597-3e02-489e-a7ef-547d78204f3b",
   "metadata": {},
   "outputs": [],
   "source": [
    "\"\"\"\n",
    "Q5. What is inheritance? Give an example for each type of inheritance.\n",
    "Ans.\n",
    "        Inheritance allows us to define a class that inherits all the methods and properties from another class.There are two \n",
    "        parameters is to be defined to achieve inheritance i.e parent class and child class\n",
    "        Parent class is the class being inherited from\n",
    "        Child class is the class that inherits from another class\n",
    "\"\"\"\n",
    "class class1:\n",
    "    def demo_class1(self):\n",
    "        return \"This is my demo for class 1\"\n",
    "    \n",
    "class class2(class1):\n",
    "    def demo_class2(self):\n",
    "        return \"This is my demo for class 2\"\n",
    "    \n",
    "class class3(class2):\n",
    "    pass\n",
    "        "
   ]
  },
  {
   "cell_type": "code",
   "execution_count": 21,
   "id": "75e159f3-75ba-4b97-bbb8-21ee70a1b179",
   "metadata": {},
   "outputs": [],
   "source": [
    "class_obj = class3()"
   ]
  },
  {
   "cell_type": "code",
   "execution_count": 23,
   "id": "878be52b-bf7f-47c8-8f00-98da51a45f06",
   "metadata": {},
   "outputs": [
    {
     "data": {
      "text/plain": [
       "'This is my demo for class 2'"
      ]
     },
     "execution_count": 23,
     "metadata": {},
     "output_type": "execute_result"
    }
   ],
   "source": [
    "class_obj.demo_class2()"
   ]
  },
  {
   "cell_type": "code",
   "execution_count": null,
   "id": "5fde7dcc-9571-44a5-8464-b618e7fdb4d5",
   "metadata": {},
   "outputs": [],
   "source": []
  }
 ],
 "metadata": {
  "kernelspec": {
   "display_name": "Python 3 (ipykernel)",
   "language": "python",
   "name": "python3"
  },
  "language_info": {
   "codemirror_mode": {
    "name": "ipython",
    "version": 3
   },
   "file_extension": ".py",
   "mimetype": "text/x-python",
   "name": "python",
   "nbconvert_exporter": "python",
   "pygments_lexer": "ipython3",
   "version": "3.10.8"
  }
 },
 "nbformat": 4,
 "nbformat_minor": 5
}
